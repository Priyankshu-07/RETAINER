{
 "cells": [
  {
   "cell_type": "code",
   "execution_count": 7,
   "id": "582d6bb6",
   "metadata": {},
   "outputs": [],
   "source": [
    "\n",
    "import pandas as pd\n",
    "import numpy as np\n",
    "import matplotlib.pyplot as plt\n",
    "import seaborn as sns\n",
    "from sklearn.model_selection import train_test_split\n",
    "from sklearn.preprocessing import LabelEncoder, StandardScaler\n",
    "from sklearn.linear_model import LogisticRegression\n",
    "from sklearn.tree import DecisionTreeClassifier\n",
    "from sklearn.ensemble import RandomForestClassifier\n",
    "from sklearn.metrics import accuracy_score, classification_report, confusion_matrix\n"
   ]
  },
  {
   "cell_type": "code",
   "execution_count": 9,
   "id": "43b027b6",
   "metadata": {},
   "outputs": [
    {
     "name": "stdout",
     "output_type": "stream",
     "text": [
      "csv loaded successfully!\n",
      "   Age Attrition     BusinessTravel  DailyRate              Department  \\\n",
      "0   41       Yes      Travel_Rarely       1102                   Sales   \n",
      "1   49        No  Travel_Frequently        279  Research & Development   \n",
      "2   37       Yes      Travel_Rarely       1373  Research & Development   \n",
      "3   33        No  Travel_Frequently       1392  Research & Development   \n",
      "4   27        No      Travel_Rarely        591  Research & Development   \n",
      "\n",
      "   DistanceFromHome  Education EducationField  EmployeeCount  EmployeeNumber  \\\n",
      "0                 1          2  Life Sciences              1               1   \n",
      "1                 8          1  Life Sciences              1               2   \n",
      "2                 2          2          Other              1               4   \n",
      "3                 3          4  Life Sciences              1               5   \n",
      "4                 2          1        Medical              1               7   \n",
      "\n",
      "   ...  RelationshipSatisfaction StandardHours  StockOptionLevel  \\\n",
      "0  ...                         1            80                 0   \n",
      "1  ...                         4            80                 1   \n",
      "2  ...                         2            80                 0   \n",
      "3  ...                         3            80                 0   \n",
      "4  ...                         4            80                 1   \n",
      "\n",
      "   TotalWorkingYears  TrainingTimesLastYear WorkLifeBalance  YearsAtCompany  \\\n",
      "0                  8                      0               1               6   \n",
      "1                 10                      3               3              10   \n",
      "2                  7                      3               3               0   \n",
      "3                  8                      3               3               8   \n",
      "4                  6                      3               3               2   \n",
      "\n",
      "  YearsInCurrentRole  YearsSinceLastPromotion  YearsWithCurrManager  \n",
      "0                  4                        0                     5  \n",
      "1                  7                        1                     7  \n",
      "2                  0                        0                     0  \n",
      "3                  7                        3                     0  \n",
      "4                  2                        2                     2  \n",
      "\n",
      "[5 rows x 35 columns]\n",
      "Shape: (1470, 35)\n"
     ]
    }
   ],
   "source": [
    "import pandas as pd\n",
    "df = pd.read_csv(\"Attrition.csv\")  \n",
    "print(\"csv loaded successfully!\")\n",
    "print(df.head())  \n",
    "print(\"Shape:\", df.shape)  \n"
   ]
  },
  {
   "cell_type": "code",
   "execution_count": 10,
   "id": "2ae11b3e",
   "metadata": {},
   "outputs": [
    {
     "name": "stdout",
     "output_type": "stream",
     "text": [
      "Age                         0\n",
      "Attrition                   0\n",
      "BusinessTravel              0\n",
      "DailyRate                   0\n",
      "Department                  0\n",
      "DistanceFromHome            0\n",
      "Education                   0\n",
      "EducationField              0\n",
      "EmployeeCount               0\n",
      "EmployeeNumber              0\n",
      "EnvironmentSatisfaction     0\n",
      "Gender                      0\n",
      "HourlyRate                  0\n",
      "JobInvolvement              0\n",
      "JobLevel                    0\n",
      "JobRole                     0\n",
      "JobSatisfaction             0\n",
      "MaritalStatus               0\n",
      "MonthlyIncome               0\n",
      "MonthlyRate                 0\n",
      "NumCompaniesWorked          0\n",
      "Over18                      0\n",
      "OverTime                    0\n",
      "PercentSalaryHike           0\n",
      "PerformanceRating           0\n",
      "RelationshipSatisfaction    0\n",
      "StandardHours               0\n",
      "StockOptionLevel            0\n",
      "TotalWorkingYears           0\n",
      "TrainingTimesLastYear       0\n",
      "WorkLifeBalance             0\n",
      "YearsAtCompany              0\n",
      "YearsInCurrentRole          0\n",
      "YearsSinceLastPromotion     0\n",
      "YearsWithCurrManager        0\n",
      "dtype: int64\n"
     ]
    }
   ],
   "source": [
    "print(df.isnull().sum())\n",
    "df = df.drop(\"EmployeeNumber\", axis=1)\n",
    "df[\"Attrition\"] = df[\"Attrition\"].map({\"Yes\": 1, \"No\": 0})\n"
   ]
  },
  {
   "cell_type": "code",
   "execution_count": 11,
   "id": "b353a0b5",
   "metadata": {},
   "outputs": [
    {
     "name": "stdout",
     "output_type": "stream",
     "text": [
      "Categorical columns: Index(['BusinessTravel', 'Department', 'EducationField', 'Gender', 'JobRole',\n",
      "       'MaritalStatus', 'Over18', 'OverTime'],\n",
      "      dtype='object')\n"
     ]
    }
   ],
   "source": [
    "cat_cols = df.select_dtypes(include=\"object\").columns\n",
    "print(\"Categorical columns:\", cat_cols)\n",
    "le = LabelEncoder()\n",
    "for col in cat_cols:\n",
    "    df[col] = le.fit_transform(df[col])\n"
   ]
  },
  {
   "cell_type": "code",
   "execution_count": 12,
   "id": "3796d111",
   "metadata": {},
   "outputs": [],
   "source": [
    "X = df.drop(\"Attrition\", axis=1)   \n",
    "y = df[\"Attrition\"]               \n",
    "scaler = StandardScaler()\n",
    "X_scaled = scaler.fit_transform(X)\n",
    "X_train, X_test, y_train, y_test = train_test_split(X_scaled, y, test_size=0.2, random_state=42, stratify=y)\n"
   ]
  },
  {
   "cell_type": "code",
   "execution_count": 13,
   "id": "8f370cf8",
   "metadata": {},
   "outputs": [
    {
     "name": "stdout",
     "output_type": "stream",
     "text": [
      "Logistic Regression Accuracy: 0.8741496598639455\n",
      "              precision    recall  f1-score   support\n",
      "\n",
      "           0       0.89      0.97      0.93       247\n",
      "           1       0.69      0.38      0.49        47\n",
      "\n",
      "    accuracy                           0.87       294\n",
      "   macro avg       0.79      0.68      0.71       294\n",
      "weighted avg       0.86      0.87      0.86       294\n",
      "\n"
     ]
    }
   ],
   "source": [
    "lr = LogisticRegression(max_iter=1000)\n",
    "lr.fit(X_train, y_train)\n",
    "y_pred_lr = lr.predict(X_test)\n",
    "print(\"Logistic Regression Accuracy:\", accuracy_score(y_test, y_pred_lr))\n",
    "print(classification_report(y_test, y_pred_lr))\n"
   ]
  },
  {
   "cell_type": "code",
   "execution_count": 14,
   "id": "0c1c4df5",
   "metadata": {},
   "outputs": [
    {
     "name": "stdout",
     "output_type": "stream",
     "text": [
      "Decision Tree Accuracy: 0.8401360544217688\n"
     ]
    }
   ],
   "source": [
    "dt = DecisionTreeClassifier(max_depth=5, random_state=42)\n",
    "dt.fit(X_train, y_train)\n",
    "y_pred_dt = dt.predict(X_test)\n",
    "print(\"Decision Tree Accuracy:\", accuracy_score(y_test, y_pred_dt))\n"
   ]
  },
  {
   "cell_type": "code",
   "execution_count": 15,
   "id": "6b9a0684",
   "metadata": {},
   "outputs": [
    {
     "name": "stdout",
     "output_type": "stream",
     "text": [
      "Random Forest Accuracy: 0.8231292517006803\n"
     ]
    }
   ],
   "source": [
    "rf = RandomForestClassifier(n_estimators=200, random_state=42)\n",
    "rf.fit(X_train, y_train)\n",
    "y_pred_rf = rf.predict(X_test)\n",
    "print(\"Random Forest Accuracy:\", accuracy_score(y_test, y_pred_rf))\n"
   ]
  },
  {
   "cell_type": "code",
   "execution_count": 16,
   "id": "b613169d",
   "metadata": {},
   "outputs": [
    {
     "data": {
      "image/png": "[encoded data removed]",
      "text/plain": [
       "<Figure size 640x480 with 2 Axes>"
      ]
     },
     "metadata": {},
     "output_type": "display_data"
    }
   ],
   "source": [
    "cm = confusion_matrix(y_test, y_pred_rf)\n",
    "sns.heatmap(cm, annot=True, fmt='d', cmap='Blues')\n",
    "plt.xlabel(\"Predicted\")\n",
    "plt.ylabel(\"Actual\")\n",
    "plt.title(\"Random Forest Confusion Matrix\")\n",
    "plt.show()\n"
   ]
  },
  {
   "cell_type": "code",
   "execution_count": 17,
   "id": "c83a0490",
   "metadata": {},
   "outputs": [
    {
     "data": {
      "image/png": "[encoded data removed]",
      "text/plain": [
       "<Figure size 1000x500 with 1 Axes>"
      ]
     },
     "metadata": {},
     "output_type": "display_data"
    }
   ],
   "source": [
    "importances = rf.feature_importances_\n",
    "feat_imp = pd.DataFrame({\"Feature\": X.columns, \"Importance\": importances})\n",
    "feat_imp = feat_imp.sort_values(\"Importance\", ascending=False)\n",
    "\n",
    "plt.figure(figsize=(10,5))\n",
    "sns.barplot(x=\"Importance\", y=\"Feature\", data=feat_imp.head(10))\n",
    "plt.title(\"Top 10 Important Features\")\n",
    "plt.show()\n"
   ]
  },
  {
   "cell_type": "code",
   "execution_count": null,
   "id": "7d930236",
   "metadata": {},
   "outputs": [
    {
     "name": "stdout",
     "output_type": "stream",
     "text": [
      "Exporting models for FastAPI backend...\n",
      "✅ Random Forest model saved to BACKEND/models/model.pkl\n",
      "✅ Preprocessor saved to BACKEND/models/preprocessor.pkl\n",
      "\n",
      "🔍 Testing saved models...\n",
      "✅ Model type: RandomForestClassifier\n",
      "✅ Preprocessor loaded successfully\n",
      "❌ Error testing models: X has 46 features, but RandomForestClassifier is expecting 33 features as input.\n",
      "\n",
      "📊 Model expects 33 features:\n",
      " 1. Age\n",
      " 2. BusinessTravel\n",
      " 3. DailyRate\n",
      " 4. Department\n",
      " 5. DistanceFromHome\n",
      " 6. Education\n",
      " 7. EducationField\n",
      " 8. EmployeeCount\n",
      " 9. EnvironmentSatisfaction\n",
      "10. Gender\n",
      "11. HourlyRate\n",
      "12. JobInvolvement\n",
      "13. JobLevel\n",
      "14. JobRole\n",
      "15. JobSatisfaction\n",
      "16. MaritalStatus\n",
      "17. MonthlyIncome\n",
      "18. MonthlyRate\n",
      "19. NumCompaniesWorked\n",
      "20. Over18\n",
      "21. OverTime\n",
      "22. PercentSalaryHike\n",
      "23. PerformanceRating\n",
      "24. RelationshipSatisfaction\n",
      "25. StandardHours\n",
      "26. StockOptionLevel\n",
      "27. TotalWorkingYears\n",
      "28. TrainingTimesLastYear\n",
      "29. WorkLifeBalance\n",
      "30. YearsAtCompany\n",
      "31. YearsInCurrentRole\n",
      "32. YearsSinceLastPromotion\n",
      "33. YearsWithCurrManager\n",
      "\n",
      "📈 Model Performance (from your notebook):\n",
      "Random Forest Accuracy: 82.31%\n"
     ]
    }
   ],
   "source": [
    "\n",
    "import joblib\n",
    "import os\n",
    "from sklearn.compose import ColumnTransformer\n",
    "from sklearn.preprocessing import StandardScaler, LabelEncoder\n",
    "os.makedirs('../BACKEND/models', exist_ok=True)\n",
    "print(\"Exporting models for FastAPI backend...\")\n",
    "joblib.dump(rf, r'c:\\codddee\\RETAINER\\BACKEND\\models\\model.pkl')\n",
    "print(\" Random Forest model saved to BACKEND/models/model.pkl\")\n",
    "categorical_columns = ['BusinessTravel', 'Department', 'EducationField', 'Gender', \n",
    "                      'JobRole', 'MaritalStatus', 'Over18', 'OverTime']\n",
    "from sklearn.compose import ColumnTransformer\n",
    "from sklearn.preprocessing import StandardScaler, OneHotEncoder\n",
    "feature_columns = [\n",
    "    'Age', 'BusinessTravel', 'DailyRate', 'Department', 'DistanceFromHome',\n",
    "    'Education', 'EducationField', 'EmployeeCount', 'EnvironmentSatisfaction',\n",
    "    'Gender', 'HourlyRate', 'JobInvolvement', 'JobLevel', 'JobRole',\n",
    "    'JobSatisfaction', 'MaritalStatus', 'MonthlyIncome', 'MonthlyRate',\n",
    "    'NumCompaniesWorked', 'Over18', 'OverTime', 'PercentSalaryHike',\n",
    "    'PerformanceRating', 'RelationshipSatisfaction', 'StandardHours',\n",
    "    'StockOptionLevel', 'TotalWorkingYears', 'TrainingTimesLastYear',\n",
    "    'WorkLifeBalance', 'YearsAtCompany', 'YearsInCurrentRole',\n",
    "    'YearsSinceLastPromotion', 'YearsWithCurrManager'\n",
    "]\n",
    "numerical_columns = [\n",
    "    'Age', 'DailyRate', 'DistanceFromHome', 'Education', 'EmployeeCount',\n",
    "    'EnvironmentSatisfaction', 'HourlyRate', 'JobInvolvement', 'JobLevel',\n",
    "    'JobSatisfaction', 'MonthlyIncome', 'MonthlyRate', 'NumCompaniesWorked',\n",
    "    'PercentSalaryHike', 'PerformanceRating', 'RelationshipSatisfaction',\n",
    "    'StandardHours', 'StockOptionLevel', 'TotalWorkingYears', \n",
    "    'TrainingTimesLastYear', 'WorkLifeBalance', 'YearsAtCompany',\n",
    "    'YearsInCurrentRole', 'YearsSinceLastPromotion', 'YearsWithCurrManager'\n",
    "]\n",
    "preprocessor = ColumnTransformer(\n",
    "    transformers=[\n",
    "        ('num', StandardScaler(), numerical_columns),\n",
    "        ('cat', OneHotEncoder(drop='first', handle_unknown='ignore'), categorical_columns)\n",
    "    ],\n",
    "    remainder='passthrough'\n",
    ")\n",
    "X_for_preprocessing = df.drop(['Attrition', ], axis=1)\n",
    "preprocessor.fit(X_for_preprocessing)\n",
    "joblib.dump(preprocessor, '../BACKEND/models/preprocessor.pkl')\n",
    "print(\" Preprocessor saved to BACKEND/models/preprocessor.pkl\")\n",
    "print(\"\\n Testing saved models...\")\n",
    "try:\n",
    "    loaded_model = joblib.load('../BACKEND/models/model.pkl')\n",
    "    loaded_preprocessor = joblib.load('../BACKEND/models/preprocessor.pkl')\n",
    "    print(f\" Model type: {type(loaded_model).__name__}\")\n",
    "    print(f\" Preprocessor loaded successfully\")\n",
    "    sample_data = X_for_preprocessing.iloc[:1]  \n",
    "    processed_sample = loaded_preprocessor.transform(sample_data)\n",
    "    prediction = loaded_model.predict(processed_sample)\n",
    "    probability = loaded_model.predict_proba(processed_sample)\n",
    "    \n",
    "    print(f\" Test prediction: {prediction[0]}\")\n",
    "    print(f\" Test probability: {probability[0]}\")\n",
    "    print(\"\\n Models exported and tested successfully!\")\n",
    "    print(\"Your FastAPI backend is ready to use these models!\") \n",
    "except Exception as e:\n",
    "    print(f\" Error testing models: {e}\")\n",
    "print(f\"\\n Model expects {len(feature_columns)} features:\")\n",
    "for i, col in enumerate(feature_columns):\n",
    "    print(f\"{i+1:2d}. {col}\")\n",
    "    \n",
    "print(f\"\\n📈 Model Performance (from your notebook):\")\n",
    "print(f\"Random Forest Accuracy: 82.31%\")"
   ]
  },
  {
   "cell_type": "code",
   "execution_count": 4,
   "id": "021a585d",
   "metadata": {},
   "outputs": [
    {
     "name": "stderr",
     "output_type": "stream",
     "text": [
      "c:\\codddee\\RETAINER\\venv\\lib\\site-packages\\xgboost\\training.py:183: UserWarning: [23:16:39] WARNING: C:\\actions-runner\\_work\\xgboost\\xgboost\\src\\learner.cc:738: \n",
      "Parameters: { \"use_label_encoder\" } are not used.\n",
      "\n",
      "  bst.update(dtrain, iteration=i, fobj=obj)\n"
     ]
    },
    {
     "name": "stdout",
     "output_type": "stream",
     "text": [
      "\n",
      "Classification Report:\n",
      "\n",
      "              precision    recall  f1-score   support\n",
      "\n",
      "           0     0.8736    0.9514    0.9109       247\n",
      "           1     0.5200    0.2766    0.3611        47\n",
      "\n",
      "    accuracy                         0.8435       294\n",
      "   macro avg     0.6968    0.6140    0.6360       294\n",
      "weighted avg     0.8171    0.8435    0.8230       294\n",
      "\n",
      "ROC AUC: 0.7732793522267207\n"
     ]
    }
   ],
   "source": [
    "import pandas as pd\n",
    "from sklearn.model_selection import train_test_split\n",
    "from sklearn.metrics import classification_report, roc_auc_score\n",
    "import xgboost as xgb\n",
    "\n",
    "# Load dataset\n",
    "df = pd.read_csv(\"Attrition.csv\")\n",
    "\n",
    "# Target encoding\n",
    "df['AttritionFlag'] = df['Attrition'].map({'Yes':1, 'No':0})\n",
    "y = df['AttritionFlag']\n",
    "\n",
    "# Drop irrelevant or constant columns\n",
    "X = df.drop(columns=['Attrition','AttritionFlag','EmployeeNumber',\n",
    "                     'EmployeeCount','Over18','StandardHours'])\n",
    "\n",
    "# Train/test split (stratified so \"Yes\"/\"No\" ratio is preserved)\n",
    "X_train, X_test, y_train, y_test = train_test_split(\n",
    "    X, y, test_size=0.2, stratify=y, random_state=42\n",
    ")\n",
    "\n",
    "# Handle categorical variables (One-Hot Encoding)\n",
    "X_train = pd.get_dummies(X_train, drop_first=True)\n",
    "X_test = pd.get_dummies(X_test, drop_first=True)\n",
    "\n",
    "# Ensure same columns after encoding\n",
    "X_test = X_test.reindex(columns=X_train.columns, fill_value=0)\n",
    "\n",
    "# Compute scale_pos_weight for imbalance handling\n",
    "scale = (len(y_train) - sum(y_train)) / sum(y_train)\n",
    "\n",
    "# Define XGBoost model\n",
    "xgb_clf = xgb.XGBClassifier(\n",
    "    n_estimators=300,\n",
    "    learning_rate=0.05,\n",
    "    max_depth=6,\n",
    "    subsample=0.8,\n",
    "    colsample_bytree=0.8,\n",
    "    scale_pos_weight=scale,\n",
    "    random_state=42,\n",
    "    use_label_encoder=False,\n",
    "    eval_metric='logloss'\n",
    ")\n",
    "\n",
    "# Train model\n",
    "xgb_clf.fit(X_train, y_train)\n",
    "\n",
    "# Predictions\n",
    "y_pred = xgb_clf.predict(X_test)\n",
    "y_proba = xgb_clf.predict_proba(X_test)[:,1]\n",
    "\n",
    "# Evaluation\n",
    "print(\"\\nClassification Report:\\n\")\n",
    "print(classification_report(y_test, y_pred, digits=4))\n",
    "print(\"ROC AUC:\", roc_auc_score(y_test, y_proba))\n"
   ]
  }
 ],
 "metadata": {
  "kernelspec": {
   "display_name": "venv (3.10.11)",
   "language": "python",
   "name": "python3"
  },
  "language_info": {
   "codemirror_mode": {
    "name": "ipython",
    "version": 3
   },
   "file_extension": ".py",
   "mimetype": "text/x-python",
   "name": "python",
   "nbconvert_exporter": "python",
   "pygments_lexer": "ipython3",
   "version": "3.10.11"
  }
 },
 "nbformat": 4,
 "nbformat_minor": 5
}
